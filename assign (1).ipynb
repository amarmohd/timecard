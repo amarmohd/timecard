{
 "cells": [
  {
   "cell_type": "code",
   "execution_count": 1,
   "id": "8f346986",
   "metadata": {},
   "outputs": [],
   "source": [
    "import pandas as pd"
   ]
  },
  {
   "cell_type": "code",
   "execution_count": 10,
   "id": "6178976a",
   "metadata": {},
   "outputs": [
    {
     "name": "stdout",
     "output_type": "stream",
     "text": [
      "  Position ID Position Status                 Time             Time Out  \\\n",
      "0   WFS000054          Active                  NaN                  NaN   \n",
      "1   WFS000065          Active  09/12/2023 10:08 AM  09/12/2023 01:53 PM   \n",
      "2   WFS000065          Active  09/12/2023 02:23 PM  09/12/2023 07:02 PM   \n",
      "3   WFS000065          Active  09/13/2023 10:08 AM  09/13/2023 02:20 PM   \n",
      "4   WFS000065          Active  09/13/2023 02:50 PM  09/13/2023 08:44 PM   \n",
      "\n",
      "  Timecard Hours (as Time) Pay Cycle Start Date Pay Cycle End Date  \\\n",
      "0                      NaN                  NaN                NaN   \n",
      "1                     3:45           09/10/2023         09/23/2023   \n",
      "2                     4:39           09/10/2023         09/23/2023   \n",
      "3                     4:12           09/10/2023         09/23/2023   \n",
      "4                     5:54           09/10/2023         09/23/2023   \n",
      "\n",
      "     Employee Name  File Number  \n",
      "0  SiWgh, PraGhjEM           54  \n",
      "1  REsaXiaWE, XAis           65  \n",
      "2  REsaXiaWE, XAis           65  \n",
      "3  REsaXiaWE, XAis           65  \n",
      "4  REsaXiaWE, XAis           65  \n"
     ]
    }
   ],
   "source": [
    "df = pd.read_csv(\"assign1.csv\")\n",
    "print(df.head())"
   ]
  },
  {
   "cell_type": "code",
   "execution_count": 11,
   "id": "f7ea145a",
   "metadata": {},
   "outputs": [
    {
     "data": {
      "text/plain": [
       "13356"
      ]
     },
     "execution_count": 11,
     "metadata": {},
     "output_type": "execute_result"
    }
   ],
   "source": [
    "df.size"
   ]
  },
  {
   "cell_type": "code",
   "execution_count": 12,
   "id": "48aa2ee2",
   "metadata": {},
   "outputs": [],
   "source": [
    "# Converting the 'Time' and 'Time Out' columns to datetime objects\n",
    "df['Time'] = pd.to_datetime(df['Time'])\n",
    "df['Time Out'] = pd.to_datetime(df['Time Out'])"
   ]
  },
  {
   "cell_type": "code",
   "execution_count": 13,
   "id": "c94179fa",
   "metadata": {},
   "outputs": [],
   "source": [
    "# Sorting the DataFrame by 'Employee Name' and 'Time'\n",
    "df.sort_values(['Employee Name', 'Time'], inplace=True)"
   ]
  },
  {
   "cell_type": "code",
   "execution_count": 6,
   "id": "61b3c06e",
   "metadata": {},
   "outputs": [],
   "source": [
    "# Initializing variables to keep track of consecutive days worked and the previous shift end time\n",
    "consecutive_days_worked = 0\n",
    "previous_shift_end_time = None"
   ]
  },
  {
   "cell_type": "code",
   "execution_count": 14,
   "id": "5c08b35b",
   "metadata": {},
   "outputs": [
    {
     "name": "stdout",
     "output_type": "stream",
     "text": [
      "CEreira Jr, JEse (Position: WFS000456) has less than 10 hours between shifts on 2023-09-14 08:00:00\n",
      "CaMaXaWE, CeghaW (Position: WFS000153) has less than 10 hours between shifts on 2023-09-11 19:01:00\n",
      "CaMaXaWE, CeghaW (Position: WFS000153) has less than 10 hours between shifts on 2023-09-20 18:32:00\n",
      "De Xa Cerda, IgWaciE (Position: WFS000318) has less than 10 hours between shifts on 2023-09-22 15:00:00\n",
      "DeXgadiXXE REdarMe, ChrisMiaW S (Position: WFS000523) worked for more than 14 hours in a single shift on 2023-09-17 04:00:00\n",
      "DeXgadiXXE REdarMe, ChrisMiaW S (Position: WFS000523) has less than 10 hours between shifts on 2023-09-17 23:27:00\n",
      "HaCiXMEW, DeaWMe DevEW (Position: WFS000536) has less than 10 hours between shifts on 2023-09-21 18:45:00\n",
      "MraW, WiXXiaC Ha (Position: WFS000345) has less than 10 hours between shifts on 2023-09-21 08:00:00\n",
      "REdrigAez, GraWdEW AWgeX (Position: WFS000550) has less than 10 hours between shifts on 2023-09-23 15:45:00\n",
      "Xee, XaCar (Position: WFS000200) has less than 10 hours between shifts on 2023-09-12 00:00:00\n",
      "Xee, XaCar (Position: WFS000200) has less than 10 hours between shifts on 2023-09-18 23:00:00\n",
      "Xee, XaCar (Position: WFS000200) has less than 10 hours between shifts on 2023-09-19 23:00:00\n"
     ]
    }
   ],
   "source": [
    "# Iterating over the DataFrame\n",
    "for index, row in df.iterrows():\n",
    "    name = row['Employee Name']\n",
    "    position = row['Position ID']\n",
    "    time = row['Time']\n",
    "    timeout = row['Time Out']\n",
    "    shift_hours = (timeout - time).total_seconds() / 3600\n",
    "\n",
    "    # Check for employees who have worked for more than 14 hours in a single shift\n",
    "    if shift_hours > 14:\n",
    "        print(f\"{name} (Position: {position}) worked for more than 14 hours in a single shift on {time}\")\n",
    "\n",
    "    # Check for employees who have worked in between 1 to 10 hours.\n",
    "    if previous_shift_end_time:\n",
    "        time_difference = (time - previous_shift_end_time).total_seconds() / 3600\n",
    "        if 1 < time_difference < 10:\n",
    "            print(f\"{name} (Position: {position}) has less than 10 hours between shifts on {time}\")\n",
    "\n",
    "        if (time - previous_shift_end_time).days == 1:\n",
    "            consecutive_days_worked += 1\n",
    "        else:\n",
    "            consecutive_days_worked = 0\n",
    "\n",
    "    previous_shift_end_time = timeout\n",
    "    \n",
    "    # Check for employees who have worked for 7 consecutive days\n",
    "    if consecutive_days_worked == 6:\n",
    "        print(f\"{name} (Position: {position}) has worked for 7 consecutive days starting from {time}\")\n",
    "        consecutive_days_worked = 0"
   ]
  },
  {
   "cell_type": "code",
   "execution_count": null,
   "id": "9615f423",
   "metadata": {},
   "outputs": [],
   "source": []
  }
 ],
 "metadata": {
  "kernelspec": {
   "display_name": "Python 3 (ipykernel)",
   "language": "python",
   "name": "python3"
  },
  "language_info": {
   "codemirror_mode": {
    "name": "ipython",
    "version": 3
   },
   "file_extension": ".py",
   "mimetype": "text/x-python",
   "name": "python",
   "nbconvert_exporter": "python",
   "pygments_lexer": "ipython3",
   "version": "3.9.7"
  }
 },
 "nbformat": 4,
 "nbformat_minor": 5
}
